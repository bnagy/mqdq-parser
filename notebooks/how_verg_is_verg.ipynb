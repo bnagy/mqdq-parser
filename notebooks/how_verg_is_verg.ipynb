{
 "cells": [
  {
   "cell_type": "code",
   "execution_count": null,
   "metadata": {},
   "outputs": [],
   "source": [
    "# In this notebook, I'd like to know how consistently \"Vergilian\" Vergil is."
   ]
  },
  {
   "cell_type": "code",
   "execution_count": 14,
   "metadata": {},
   "outputs": [],
   "source": [
    "from bs4 import BeautifulSoup\n",
    "import importlib\n",
    "import random\n",
    "from mqdq import counter_factory as cf\n",
    "from mqdq import line_analyzer as la\n",
    "from mqdq import metrics\n",
    "\n",
    "with open('../VERG-aene.xml') as fh:\n",
    "    aen_soup = BeautifulSoup(fh,\"xml\")\n",
    "    \n",
    "aen_books = [list(filter(lambda l: l['pattern']!='corrupt', d('line'))) for d in aen_soup('division')]    \n",
    "aen = [l for l in aen_soup('line') if l['pattern'] != 'corrupt']"
   ]
  },
  {
   "cell_type": "code",
   "execution_count": 15,
   "metadata": {},
   "outputs": [
    {
     "data": {
      "text/plain": [
       "(9840, 12)"
      ]
     },
     "execution_count": 15,
     "metadata": {},
     "output_type": "execute_result"
    }
   ],
   "source": [
    "(len(aen), len(aen_books))"
   ]
  },
  {
   "cell_type": "code",
   "execution_count": 9,
   "metadata": {},
   "outputs": [
    {
     "name": "stdout",
     "output_type": "stream",
     "text": [
      "DDDD | Obs:  212 (    2.15% )\n",
      "DDDS | Obs:  670 (    6.81% )\n",
      "DDSD | Obs:  459 (    4.66% )\n",
      "DDSS | Obs: 1159 (   11.78% )\n",
      "DSDD | Obs:  353 (    3.59% )\n",
      "DSDS | Obs: 1100 (   11.18% )\n",
      "DSSD | Obs:  566 (    5.75% )\n",
      "DSSS | Obs: 1412 (   14.35% )\n",
      "SDDD | Obs:  195 (    1.98% )\n",
      "SDDS | Obs:  580 (    5.89% )\n",
      "SDSD | Obs:  373 (    3.79% )\n",
      "SDSS | Obs:  941 (    9.56% )\n",
      "SSDD | Obs:  229 (    2.33% )\n",
      "SSDS | Obs:  593 (    6.03% )\n",
      "SSSD | Obs:  301 (    3.06% )\n",
      "SSSS | Obs:  697 (    7.08% )\n"
     ]
    }
   ],
   "source": [
    "# Let's look at the overall distribution of Vergil's hexameter patterns.\n",
    "\n",
    "importlib.reload(metrics)\n",
    "metrics.summarize(aen, cf.pattern_counter_raw)"
   ]
  },
  {
   "cell_type": "code",
   "execution_count": 29,
   "metadata": {},
   "outputs": [
    {
     "data": {
      "text/plain": [
       "Power_divergenceResult(statistic=9.399894091031678, pvalue=0.8556976925637461)"
      ]
     },
     "execution_count": 29,
     "metadata": {},
     "output_type": "execute_result"
    }
   ],
   "source": [
    "# OK, he is mostly dactylic, with a particular fondness for DSSS, DSDS and DDSS.\n",
    "# If we take a random sample, we expect to see a good chi-square fit, ie a low\n",
    "# chi-square statistic. We're comparing Vergil to himself.\n",
    "\n",
    "samp = random.sample(aen, 1000)\n",
    "metrics.chisq(samp, aen, cf.pattern_counter_raw)"
   ]
  },
  {
   "cell_type": "code",
   "execution_count": 39,
   "metadata": {},
   "outputs": [
    {
     "name": "stdout",
     "output_type": "stream",
     "text": [
      "DDDD | Obs:  24 Exp:  21.54 (    0.25% )\n",
      "DDDS | Obs:  67 Exp:  68.09 (   -0.11% )\n",
      "DDSD | Obs:  40 Exp:  46.65 (   -0.66% )\n",
      "DDSS | Obs: 128 Exp: 117.78 (    1.02% )\n",
      "DSDD | Obs:  37 Exp:  35.87 (    0.11% )\n",
      "DSDS | Obs: 109 Exp: 111.79 (   -0.28% )\n",
      "DSSD | Obs:  52 Exp:  57.52 (   -0.55% )\n",
      "DSSS | Obs: 137 Exp: 143.50 (   -0.65% )\n",
      "SDDD | Obs:  18 Exp:  19.82 (   -0.18% )\n",
      "SDDS | Obs:  75 Exp:  58.94 (    1.61% )\n",
      "SDSD | Obs:  44 Exp:  37.91 (    0.61% )\n",
      "SDSS | Obs:  94 Exp:  95.63 (   -0.16% )\n",
      "SSDD | Obs:  21 Exp:  23.27 (   -0.23% )\n",
      "SSDS | Obs:  58 Exp:  60.26 (   -0.23% )\n",
      "SSSD | Obs:  31 Exp:  30.59 (    0.04% )\n",
      "SSSS | Obs:  65 Exp:  70.83 (   -0.58% )\n"
     ]
    }
   ],
   "source": [
    "# And, we can see that our random sample falls pretty close to \n",
    "# the overall patterns. 1000 is almost 10% of the work, so that's\n",
    "# not too surprising.\n",
    "\n",
    "metrics.summarize_compare(samp, aen, cf.pattern_counter_raw)"
   ]
  },
  {
   "cell_type": "code",
   "execution_count": 27,
   "metadata": {},
   "outputs": [
    {
     "name": "stdout",
     "output_type": "stream",
     "text": [
      "Book:  1, Chisq: 9.41, P-Value: 0.85\n",
      "Book:  2, Chisq: 19.74, P-Value: 0.18\n",
      "Book:  3, Chisq: 18.41, P-Value: 0.24\n",
      "Book:  4, Chisq: 15.32, P-Value: 0.43\n",
      "Book:  5, Chisq: 16.04, P-Value: 0.38\n",
      "Book:  6, Chisq: 14.55, P-Value: 0.48\n",
      "Book:  7, Chisq: 13.78, P-Value: 0.54\n",
      "Book:  8, Chisq: 14.72, P-Value: 0.47\n",
      "Book:  9, Chisq: 6.97, P-Value: 0.96\n",
      "Book: 10, Chisq: 19.99, P-Value: 0.17\n",
      "Book: 11, Chisq: 8.28, P-Value: 0.91\n",
      "Book: 12, Chisq: 25.85, P-Value: 0.04\n"
     ]
    }
   ],
   "source": [
    "# But is he always consistent?\n",
    "\n",
    "for idx, b in enumerate(aen_books):\n",
    "    print(\"Book: %2d, Chisq: %.2f, P-Value: %.2f\"%(idx+1, *metrics.chisq(b,aen,cf.pattern_counter_raw)))"
   ]
  },
  {
   "cell_type": "code",
   "execution_count": 28,
   "metadata": {},
   "outputs": [
    {
     "name": "stdout",
     "output_type": "stream",
     "text": [
      "DDDD | Obs:  19 Exp:  20.49 (   -0.16% )\n",
      "DDDS | Obs:  56 Exp:  64.75 (   -0.92% )\n",
      "DDSD | Obs:  33 Exp:  44.36 (   -1.19% )\n",
      "DDSS | Obs:  91 Exp: 112.01 (   -2.21% )\n",
      "DSDD | Obs:  28 Exp:  34.12 (   -0.64% )\n",
      "DSDS | Obs: 122 Exp: 106.31 (    1.65% )\n",
      "DSSD | Obs:  44 Exp:  54.70 (   -1.13% )\n",
      "DSSS | Obs: 153 Exp: 136.46 (    1.74% )\n",
      "SDDD | Obs:  15 Exp:  18.85 (   -0.40% )\n",
      "SDDS | Obs:  72 Exp:  56.05 (    1.68% )\n",
      "SDSD | Obs:  29 Exp:  36.05 (   -0.74% )\n",
      "SDSS | Obs: 100 Exp:  90.94 (    0.95% )\n",
      "SSDD | Obs:  25 Exp:  22.13 (    0.30% )\n",
      "SSDS | Obs:  64 Exp:  57.31 (    0.70% )\n",
      "SSSD | Obs:  25 Exp:  29.09 (   -0.43% )\n",
      "SSSS | Obs:  75 Exp:  67.36 (    0.80% )\n"
     ]
    }
   ],
   "source": [
    "# Book 12 is the least 'Vergilian', but nothing looks really crazy.\n",
    "\n",
    "# The patterns here are Dactyl or Spondee in the first four feet \n",
    "# (The last two feet are virtually always DS)\n",
    "# Obs is how many we saw, Exp is how many we would expect to see\n",
    "# based on the patterns in the Aeneid overall.\n",
    "\n",
    "metrics.summarize_compare(aen_books[11], aen, cf.pattern_counter_raw)"
   ]
  },
  {
   "cell_type": "code",
   "execution_count": 31,
   "metadata": {},
   "outputs": [
    {
     "name": "stdout",
     "output_type": "stream",
     "text": [
      "Book:  1, Chisq: 29.09, P-Value: 0.11\n",
      "Book:  2, Chisq: 21.52, P-Value: 0.43\n",
      "Book:  3, Chisq: 21.45, P-Value: 0.43\n",
      "Book:  4, Chisq: 24.98, P-Value: 0.25\n",
      "Book:  5, Chisq: 31.97, P-Value: 0.06\n",
      "Book:  6, Chisq: 28.21, P-Value: 0.13\n",
      "Book:  7, Chisq: 29.71, P-Value: 0.10\n",
      "Book:  8, Chisq: 22.40, P-Value: 0.38\n",
      "Book:  9, Chisq: 30.19, P-Value: 0.09\n",
      "Book: 10, Chisq: 21.48, P-Value: 0.43\n",
      "Book: 11, Chisq: 15.40, P-Value: 0.80\n",
      "Book: 12, Chisq: 23.93, P-Value: 0.30\n"
     ]
    }
   ],
   "source": [
    "# Let's do the same test, but look at the patterns of his caesurae\n",
    "\n",
    "for idx, b in enumerate(aen_books):\n",
    "    print(\"Book: %2d, Chisq: %.2f, P-Value: %.2f\"%(idx+1, *metrics.chisq(b,aen,lambda x: cf.caesura_counter(x, strict=True))))"
   ]
  },
  {
   "cell_type": "code",
   "execution_count": 32,
   "metadata": {},
   "outputs": [
    {
     "name": "stdout",
     "output_type": "stream",
     "text": [
      "--- | Obs:   2 Exp:   3.08 (   -0.12% )\n",
      "--S | Obs:   2 Exp:   5.80 (   -0.44% )\n",
      "--W | Obs:   1 Exp:   0.26 (    0.09% )\n",
      "-S- | Obs:  71 Exp:  66.11 (    0.57% )\n",
      "-SS | Obs: 114 Exp: 131.86 (   -2.06% )\n",
      "-SW | Obs:   6 Exp:   7.56 (   -0.18% )\n",
      "-W- | Obs:   2 Exp:   0.53 (    0.17% )\n",
      "-WS | Obs:   7 Exp:   8.18 (   -0.14% )\n",
      "S-- | Obs:  21 Exp:  13.45 (    0.87% )\n",
      "S-S | Obs:  63 Exp:  50.11 (    1.49% )\n",
      "S-W | Obs:   2 Exp:   1.49 (    0.06% )\n",
      "SS- | Obs: 155 Exp: 132.74 (    2.57% )\n",
      "SSS | Obs: 193 Exp: 212.21 (   -2.22% )\n",
      "SSW | Obs:  19 Exp:  17.93 (    0.12% )\n",
      "SW- | Obs:   6 Exp:   3.60 (    0.28% )\n",
      "SWS | Obs:  95 Exp:  86.06 (    1.03% )\n",
      "W-- | Obs:   1 Exp:   0.62 (    0.04% )\n",
      "W-S | Obs:   2 Exp:   1.67 (    0.04% )\n",
      "WS- | Obs:  39 Exp:  44.39 (   -0.62% )\n",
      "WSS | Obs:  56 Exp:  69.62 (   -1.57% )\n",
      "WSW | Obs:   7 Exp:   6.24 (    0.09% )\n",
      "WWS | Obs:   1 Exp:   1.49 (   -0.06% )\n"
     ]
    }
   ],
   "source": [
    "metrics.summarize_compare(aen_books[4], aen, lambda x: cf.caesura_counter(x, strict=True))\n",
    "\n",
    "# He uses fewer strong caesurae in the fourth foot in Book 5\n",
    "# in favour of a stronger second foot caesura\n",
    "\n",
    "# The patterns show what kind of caesura (Strong, Weak or None)\n",
    "# occurs inside the second, third and fourth feet. These are \n",
    "# the main feet considered by most scholars (even the second is\n",
    "# ignored by some, whereas the third can become an obsession)"
   ]
  },
  {
   "cell_type": "code",
   "execution_count": 34,
   "metadata": {},
   "outputs": [
    {
     "name": "stdout",
     "output_type": "stream",
     "text": [
      "CCCC | Obs: 133 Exp: 114.63 (    2.12% )\n",
      "CCCH | Obs:  59 Exp:  54.06 (    0.57% )\n",
      "CCHC | Obs:  45 Exp:  43.51 (    0.17% )\n",
      "CCHH | Obs:   1 Exp:   7.91 (   -0.80% )\n",
      "CHCC | Obs:   4 Exp:   7.38 (   -0.39% )\n",
      "CHCH | Obs:   7 Exp:   4.57 (    0.28% )\n",
      "CHHC | Obs:   0 Exp:   1.32 (   -0.15% )\n",
      "CHHH | Obs:   0 Exp:   0.26 (   -0.03% )\n",
      "HCCC | Obs: 243 Exp: 235.06 (    0.92% )\n",
      "HCCH | Obs: 121 Exp: 101.18 (    2.29% )\n",
      "HCHC | Obs:  51 Exp:  50.46 (    0.06% )\n",
      "HCHH | Obs:   7 Exp:   7.12 (   -0.01% )\n",
      "HHCC | Obs: 114 Exp: 136.52 (   -2.60% )\n",
      "HHCH | Obs:  60 Exp:  70.24 (   -1.18% )\n",
      "HHHC | Obs:  17 Exp:  24.00 (   -0.81% )\n",
      "HHHH | Obs:   3 Exp:   6.77 (   -0.44% )\n"
     ]
    }
   ],
   "source": [
    "# We can also look at the interplay between ictus and accent\n",
    "# It seems that the Latin poets favoured a line with more \n",
    "# conflict, because if the Latin word accent fell on the Greek\n",
    "# ictus, the line would sound 'sing-songy'. We can see the rarity\n",
    "# of lines with three of the four key feet in Harmony.\n",
    "\n",
    "metrics.summarize_compare(aen_books[4], aen, cf.conflict_counter)\n",
    "\n",
    "# Nothing seems to stand out. Again, we record only Conflict or\n",
    "# Harmony for the first four feet, because the DS in the last two feet\n",
    "# is almost always exploited to end the line in harmony."
   ]
  },
  {
   "cell_type": "code",
   "execution_count": 36,
   "metadata": {},
   "outputs": [
    {
     "name": "stdout",
     "output_type": "stream",
     "text": [
      "Book:  1, Chisq: 29.80, P-Value: 0.01\n",
      "Book:  2, Chisq: 20.71, P-Value: 0.15\n",
      "Book:  3, Chisq: 20.73, P-Value: 0.15\n",
      "Book:  4, Chisq: 21.61, P-Value: 0.12\n",
      "Book:  5, Chisq: 27.41, P-Value: 0.03\n",
      "Book:  6, Chisq: 18.62, P-Value: 0.23\n",
      "Book:  7, Chisq: 12.92, P-Value: 0.61\n",
      "Book:  8, Chisq: 20.46, P-Value: 0.16\n",
      "Book:  9, Chisq: 11.08, P-Value: 0.75\n",
      "Book: 10, Chisq: 15.60, P-Value: 0.41\n",
      "Book: 11, Chisq: 8.92, P-Value: 0.88\n",
      "Book: 12, Chisq: 14.85, P-Value: 0.46\n"
     ]
    }
   ],
   "source": [
    "for idx, b in enumerate(aen_books):\n",
    "    print(\"Book: %2d, Chisq: %.2f, P-Value: %.2f\"%(idx+1, *metrics.chisq(b,aen,cf.conflict_counter)))"
   ]
  },
  {
   "cell_type": "code",
   "execution_count": 105,
   "metadata": {},
   "outputs": [],
   "source": [
    "def rolling_window(seq, size, step):\n",
    "    return (seq[pos:pos+size] for pos in range(0, len(seq)-size+step, step))\n",
    "\n",
    "data = []\n",
    "for s in rolling_window(aen, 1000, 100):\n",
    "   data.append(metrics.chisq(s, aen, cf.pattern_counter_raw).statistic)"
   ]
  },
  {
   "cell_type": "code",
   "execution_count": null,
   "metadata": {},
   "outputs": [],
   "source": [
    "# Where do the books start?\n",
    "# (this is slightly wrong because corrupt lines have been stripped)\n",
    "starts = []\n",
    "for idx, _ in enumerate(aen_books):\n",
    "    starts.append(sum([len(b) for b in aen_books[:idx]]))"
   ]
  },
  {
   "cell_type": "code",
   "execution_count": 146,
   "metadata": {},
   "outputs": [
    {
     "data": {
      "image/png": "[encoded data removed]",
      "text/plain": [
       "<Figure size 432x288 with 1 Axes>"
      ]
     },
     "metadata": {
      "needs_background": "light"
     },
     "output_type": "display_data"
    }
   ],
   "source": [
    "from matplotlib import pyplot as plt\n",
    "fig=plt.figure()\n",
    "plt.title(\"How Vergilian is Vergil?\\n($\\chi^{2}$ fit of foot patterns, 1000-line window, higher is worse)\")\n",
    "ax1 = fig.add_subplot(111)\n",
    "\n",
    "ax1.set_xlabel(\"Starting Line\")\n",
    "plt.ylabel(\"$\\chi^{2}$ Statistic (with 95% / 99% confidence)\")\n",
    "\n",
    "# Set up the ticks to match the centre of the rolling window of lines\n",
    "x = [(i*100)+500 for i in range(len(data))]\n",
    "\n",
    "# Draw a vertical line at the start of each book\n",
    "for s in starts:\n",
    "    ax1.axvline(s, color='black', linewidth=1)\n",
    "\n",
    "# Draw lines for the 99 and 95% critical values for\n",
    "# chisquare with 15 degrees of freedom (from a table)\n",
    "ax1.axhline(30.578, color='r', linestyle='--')\n",
    "ax1.axhline(24.996, color='r', linestyle=':', linewidth=1)\n",
    "\n",
    "ax1.plot(x,data)\n",
    "fig.show()\n",
    "#fig.savefig('how_verg_is_verg.pdf')"
   ]
  },
  {
   "cell_type": "code",
   "execution_count": null,
   "metadata": {},
   "outputs": [],
   "source": []
  }
 ],
 "metadata": {
  "kernelspec": {
   "display_name": "silius",
   "language": "python",
   "name": "silius"
  },
  "language_info": {
   "codemirror_mode": {
    "name": "ipython",
    "version": 3
   },
   "file_extension": ".py",
   "mimetype": "text/x-python",
   "name": "python",
   "nbconvert_exporter": "python",
   "pygments_lexer": "ipython3",
   "version": "3.7.1"
  }
 },
 "nbformat": 4,
 "nbformat_minor": 2
}
