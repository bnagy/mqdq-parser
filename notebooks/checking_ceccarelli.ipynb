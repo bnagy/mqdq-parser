{
 "cells": [
  {
   "cell_type": "code",
   "execution_count": null,
   "metadata": {},
   "outputs": [],
   "source": [
    "# In this notebook, I want to check some figures from Ceccarelli.\n",
    "# Ceccarelli, L. (2008). Contributi per la storia dell'esametro latino.\n",
    "# Our figures disagree wildly on the use of Bucolic Diaeresis.\n",
    "# \n",
    "# In his tables, he breaks the verses of the Aeneid down as\n",
    "# 4_|  : 7376  (strong caes.)\n",
    "# 4__| : 1324  (BD)\n",
    "# 4_xx|: 495   (BD)\n",
    "# 4_x| : 391   (weak caes.)"
   ]
  },
  {
   "cell_type": "code",
   "execution_count": 3,
   "metadata": {},
   "outputs": [],
   "source": [
    "from bs4 import BeautifulSoup\n",
    "import importlib\n",
    "from mqdq import counter_factory as cf\n",
    "from mqdq import line_analyzer as la\n",
    "from mqdq import metrics\n",
    "from collections import Counter\n",
    "\n",
    "with open('../VERG-aene.xml') as fh:\n",
    "    aen_soup = BeautifulSoup(fh,\"xml\")\n",
    "\n",
    "aen = [l for l in aen_soup('line') if l['pattern'] != 'corrupt']\n",
    "aen_books = [list(filter(lambda l: l['pattern']!='corrupt', d('line'))) for d in aen_soup('division')]  "
   ]
  },
  {
   "cell_type": "code",
   "execution_count": 4,
   "metadata": {},
   "outputs": [
    {
     "data": {
      "text/plain": [
       "Counter({'S': 6450, '-': 2064, 'Q': 945, 'W': 381})"
      ]
     },
     "execution_count": 4,
     "metadata": {},
     "output_type": "execute_result"
    }
   ],
   "source": [
    "# I already have a method in line_analyzer for this,\n",
    "# which is mostly just used inside the caesura_counter.\n",
    "\n",
    "# The weak caesurae almost match C's numbers...\n",
    "\n",
    "Counter([la.classify_caesura(l,4,strict=False) for l in aen])"
   ]
  },
  {
   "cell_type": "code",
   "execution_count": 21,
   "metadata": {},
   "outputs": [
    {
     "data": {
      "text/plain": [
       "7395"
      ]
     },
     "execution_count": 21,
     "metadata": {},
     "output_type": "execute_result"
    }
   ],
   "source": [
    "# What I call a 'quasi' caesura is when there would have been\n",
    "# a 'real' caesura, but there is an elision that carries over\n",
    "# the word break. These seem to be considered by C as a strong\n",
    "# caesura, which is... odd?\n",
    "\n",
    "6450+945"
   ]
  },
  {
   "cell_type": "code",
   "execution_count": 22,
   "metadata": {},
   "outputs": [
    {
     "data": {
      "text/plain": [
       "1819"
      ]
     },
     "execution_count": 22,
     "metadata": {},
     "output_type": "execute_result"
    }
   ],
   "source": [
    "# But C's two 'true' BD cases don't add up to my '-' caesura\n",
    "# which is marked when the foot has no caesura at all.\n",
    "\n",
    "1324+495"
   ]
  },
  {
   "cell_type": "code",
   "execution_count": 7,
   "metadata": {},
   "outputs": [
    {
     "data": {
      "text/plain": [
       "Counter({True: 4844, False: 4996})"
      ]
     },
     "execution_count": 7,
     "metadata": {},
     "output_type": "execute_result"
    }
   ],
   "source": [
    "# Anyway, my own counters for caesurae and my BD analyzer don't add up...\n",
    "# 4844 is more than my '-' and 'Q' caesurae combined.\n",
    "\n",
    "Counter([la.has_bd(l) for l in aen])"
   ]
  },
  {
   "cell_type": "code",
   "execution_count": 8,
   "metadata": {},
   "outputs": [
    {
     "data": {
      "text/plain": [
       "[<line metre=\"H\" name=\"263\" pattern=\"DSSS\">\n",
       " <word sy=\"1A1b\" wb=\"CF\">Ipse</word>\n",
       " <word mf=\"SY\" sy=\"1c\">modo</word>\n",
       " <word sy=\"2A2T3A\" wb=\"CM\">Aeneas,</word>\n",
       " <word sy=\"3T4A\" wb=\"CM\">nostri</word>\n",
       " <word sy=\"4T\" wb=\"DI\">si</word>\n",
       " <word sy=\"5A5b\" wb=\"CF\">tanta</word>\n",
       " <word sy=\"5c6A6X\">cupidost,</word>\n",
       " </line>, <line metre=\"H\" name=\"494\" pattern=\"DSSS\">\n",
       " <word sy=\"1A1b1c\" wb=\"DI\">Largior.</word>\n",
       " <word sy=\"2A\" wb=\"CM\">haud</word>\n",
       " <word sy=\"2T3A\" wb=\"CM\">illi</word>\n",
       " <word sy=\"3T4A\" wb=\"CM\">stabunt</word>\n",
       " <word sy=\"4T5A5b5c\" wb=\"DI\">Aeneia</word>\n",
       " <word sy=\"6A6X\">paruo</word>\n",
       " </line>, <line metre=\"H\" name=\"324\" pattern=\"DSSS\">\n",
       " <word mf=\"SY\" sy=\"1A1b1c\">Luctificam</word>\n",
       " <word sy=\"2A2T3A\" wb=\"CM\">Allecto</word>\n",
       " <word mf=\"SY\" sy=\"3T4A\">dirarum</word>\n",
       " <word sy=\"4T\" wb=\"DI\">ab</word>\n",
       " <word sy=\"5A5b\" wb=\"CF\">sede</word>\n",
       " <word sy=\"5c6A6X\">dearum</word>\n",
       " </line>, <line metre=\"H\" name=\"602\" pattern=\"SSDD\">\n",
       " <word sy=\"1A\" wb=\"CM\">Qui</word>\n",
       " <word sy=\"1T2A\" wb=\"CM\">primi</word>\n",
       " <word sy=\"2T3A\" wb=\"CM\">finis</word>\n",
       " <word mf=\"SY\" sy=\"3b3c4A\">aliquando</word>\n",
       " <word sy=\"4b4c5A5b\" wb=\"CF\">habuere</word>\n",
       " <word sy=\"5c6A6X\">Latinos.</word>\n",
       " </line>]"
      ]
     },
     "execution_count": 8,
     "metadata": {},
     "output_type": "execute_result"
    }
   ],
   "source": [
    "# So, obviously we have a discrepancy. Let's just analyse a small random sample.\n",
    "\n",
    "import random\n",
    "s = random.sample(aen, 100)\n",
    "s[:4]"
   ]
  },
  {
   "cell_type": "code",
   "execution_count": 9,
   "metadata": {},
   "outputs": [
    {
     "data": {
      "text/plain": [
       "Counter({'S': 62, 'Q': 12, 'W': 5, '-': 21})"
      ]
     },
     "execution_count": 9,
     "metadata": {},
     "output_type": "execute_result"
    }
   ],
   "source": [
    "Counter([la.classify_caesura(l,4,strict=False) for l in s])"
   ]
  },
  {
   "cell_type": "code",
   "execution_count": 20,
   "metadata": {},
   "outputs": [
    {
     "name": "stdout",
     "output_type": "stream",
     "text": [
      "Ipse modo Aeneas, nostri si tanta cupidost,\n",
      "1A1b 1c_  2A2T3A  3T4A   4T 5A5b  5c6A6X    > S  True\n",
      "Largior. haud illi stabunt Aeneia   paruo\n",
      "1A1b1c   2A   2T3A 3T4A    4T5A5b5c 6A6X    > S  False\n",
      "Luctificam Allecto dirarum ab sede dearum\n",
      "1A1b1c_    2A2T3A  3T4A_   4T 5A5b 5c6A6X    > Q  True\n",
      "Qui primi finis aliquando habuere  Latinos.\n",
      "1A  1T2A  2T3A  3b3c4A_   4b4c5A5b 5c6A6X    > Q  False\n",
      "Effuge et haec Turno mandata nouissima perfer:\n",
      "1A1b_  1c 2A   2T3A  3T4A4b  4c5A5b5c  6A6X    > W  False\n",
      "Seruati facimus meritosque nouamus honores.\n",
      "1A1T2A  2b2c3A  3b3c4A4b   4c5A5b  5c6A6X    > W  False\n",
      "Dardaniumque ducem Laurentia uexerit arua,\n",
      "1A1b1c2A2b   2c3A  3T4A4b4c  5A5b5c  6A6X    > -  True\n",
      "Tum sic pauca refert: \"ut te, fortissime Teucrum,\n",
      "1A  1T  2A2b  2c3A    3T  4A  4T5A5b5c   6A6X    > S  False\n",
      "At media  socios incedens naue per ipsos\n",
      "1A 1b1c2A 2b2c3A 3T4A4T   5A5b 5c  6A6X    > -  True\n",
      "Nec contra uiris audet Saturnia Iuno\n",
      "1A  1T2A   2T3A  3T4A  4T5A5b5c 6A6X    > S  False\n"
     ]
    }
   ],
   "source": [
    "# Looking at how my analysis works, we can now see the problem.\n",
    "# The first line has a word break after the thesis of the\n",
    "# fourth foot, which is the definition of a strong caesura\n",
    "# but ALSO a word break at the end of the fourth foot, which\n",
    "# is the definition of a bucolic diaeresis.\n",
    "#\n",
    "# Well, there's our problem, but whose interpretation is\n",
    "# correct? Well, that's another matter entirely.\n",
    "\n",
    "print(\"\\n\".join([la.txt(l, scan=True)+'    > ' + (la.classify_caesura(l,4,strict=False)) + \"  \" + str(la.has_bd(l)) for l in s[:10]]))"
   ]
  },
  {
   "cell_type": "code",
   "execution_count": 40,
   "metadata": {},
   "outputs": [
    {
     "name": "stdout",
     "output_type": "stream",
     "text": [
      "9586\n",
      "244\n"
     ]
    }
   ],
   "source": [
    "# There's one more problem. C's numbers don't add up. He uses \n",
    "# 9830 lines for Aen. (I use 9840, per MQDQ scansion), but his\n",
    "# 4th feet only add up to 9586.\n",
    "\n",
    "print(7376 + 1324 + 495 + 391)\n",
    "print(9830 - (7376 + 1324 + 495 + 391))"
   ]
  },
  {
   "cell_type": "code",
   "execution_count": 30,
   "metadata": {},
   "outputs": [],
   "source": [
    "# So, there should be lines that have neither a 4th foot caesura, NOR\n",
    "# BD. How many are there?\n",
    "\n",
    "no_4th_caes = [l for l in aen if la.classify_caesura(l,4,strict=True)=='-']"
   ]
  },
  {
   "cell_type": "code",
   "execution_count": 31,
   "metadata": {},
   "outputs": [
    {
     "data": {
      "text/plain": [
       "3009"
      ]
     },
     "execution_count": 31,
     "metadata": {},
     "output_type": "execute_result"
    }
   ],
   "source": [
    "# With strict=True we mark the caesura as '-' if the feet are completely contained in a word\n",
    "# OR over an elision.\n",
    "len(no_4th_caes)"
   ]
  },
  {
   "cell_type": "code",
   "execution_count": 33,
   "metadata": {},
   "outputs": [],
   "source": [
    "# So these should now be the lines with neither,\n",
    "# so the fourth foot should be wrapped in a monster\n",
    "# word or something.\n",
    "\n",
    "neither = [l for l in no_4th_caes if la.has_bd(l)==False]"
   ]
  },
  {
   "cell_type": "code",
   "execution_count": 34,
   "metadata": {},
   "outputs": [
    {
     "data": {
      "text/plain": [
       "898"
      ]
     },
     "execution_count": 34,
     "metadata": {},
     "output_type": "execute_result"
    }
   ],
   "source": [
    "len(neither)"
   ]
  },
  {
   "cell_type": "code",
   "execution_count": 35,
   "metadata": {},
   "outputs": [
    {
     "name": "stdout",
     "output_type": "stream",
     "text": [
      "Ostia, diues opum studiisque asperrima belli;\n",
      "1A1b1c 2A2b  2c3A 3b3c4A_    4T5A5b5c  6A6X\n",
      "Iudicium Paridis spretaeque iniuria  formae\n",
      "1A1b1c2A 2b2c3A  3T4A_      4T5A5b5c 6A6X\n",
      "Troas, reliquias Danaum atque immitis Achilli,\n",
      "1A1T   2A2b2c3A  3b3c_  4A_   4T5A5b  5c6A6X\n",
      "Nec posse Italia   Teucrorum auertere regem?\n",
      "1A  1T_   2A2b2c3A 3T4A_     4T5A5b5c 6A6X\n",
      "Quippe uetor fatis. Pallasne exurere  classem\n",
      "1A1b   1c2A  2T3A   3T4A_    4T5A5b5c 6A6X\n",
      "Disiecitque rates euertitque aequora uentis,\n",
      "1A1T2A2b    2c3A  3T4A4T_    5A5b5c  6A6X\n",
      "Turbine corripuit scopuloque infixit acuto;\n",
      "1A1b1c  2A2b2c3A  3b3c4A_    4T5A5b  5c6A6X\n",
      "Luctantis uentos tempestatesque sonoras\n",
      "1A1T2A    2T3A   3T4A4T5A5b     5c6A6X\n",
      "Incute uim uentis submersasque obrue  puppes,\n",
      "1A1b1c 2A  2T3A   3T4A4T_      5A5b5c 6A6X\n",
      "Nimborumque facis tempestatumque potentem.\"\n",
      "1A1T2A2b    2c3A  3T4A4T5A5b     5c6A6X\n"
     ]
    }
   ],
   "source": [
    "# And here's a sample of them. Mostly the elision type\n",
    "# but we can see one at the end of the 'monster word'\n",
    "# variety ('tempestatumque')\n",
    "\n",
    "print(\"\\n\".join([la.txt(l, scan=True) for l in neither][:10]))"
   ]
  },
  {
   "cell_type": "code",
   "execution_count": 37,
   "metadata": {},
   "outputs": [
    {
     "data": {
      "text/plain": [
       "307"
      ]
     },
     "execution_count": 37,
     "metadata": {},
     "output_type": "execute_result"
    }
   ],
   "source": [
    "# Could the lines where the fourth foot is completely\n",
    "# contained, and doesn't end the word account for\n",
    "# C's missing 244 verses? No, there are actually more\n",
    "# of that kind of line.\n",
    "\n",
    "no_4th_caes_strict = [l for l in aen if la.classify_caesura(l,4,strict=False)=='-']\n",
    "neither_strict = [l for l in no_4th_caes_strict if la.has_bd(l)==False]\n",
    "len(neither_strict)"
   ]
  },
  {
   "cell_type": "code",
   "execution_count": 38,
   "metadata": {},
   "outputs": [
    {
     "name": "stdout",
     "output_type": "stream",
     "text": [
      "Disiecitque rates euertitque aequora uentis,\n",
      "1A1T2A2b    2c3A  3T4A4T_    5A5b5c  6A6X\n",
      "Luctantis uentos tempestatesque sonoras\n",
      "1A1T2A    2T3A   3T4A4T5A5b     5c6A6X\n",
      "Incute uim uentis submersasque obrue  puppes,\n",
      "1A1b1c 2A  2T3A   3T4A4T_      5A5b5c 6A6X\n",
      "Nimborumque facis tempestatumque potentem.\"\n",
      "1A1T2A2b    2c3A  3T4A4T5A5b     5c6A6X\n",
      "Conspexere, silent arrectisque auribus adstant;\n",
      "1A1T2A2b    2c3A   3T4A4T_     5A5b5c  6A6X\n",
      "Siue extrema pati nec exaudire uocatos.\n",
      "1A_  1T2A2b  2c3A 3T  4A4T5A5b 5c6A6X\n",
      "Vultu, quo caelum tempestatesque serenat,\n",
      "1A1T   2A  2T3A   3T4A4T5A5b     5c6A6X\n",
      "Sed fines Libyci, genus intractabile bello.\n",
      "1A  1T2A  2b2c3A  3b3c  4A4T5A5b5c   6A6X\n",
      "Passa Venus medio  sic interfata dolore est:\n",
      "1A1b  1c2A  2b2c3A 3T  4A4T5A5b  5c6A6X _\n",
      "Aut capere aut captas iam despectare uidentur:\n",
      "1A  1b1c_  2A  2T3A   3T  4A4T5A5b   5c6A6X\n"
     ]
    }
   ],
   "source": [
    "# And here's a sample of them.\n",
    "\n",
    "print(\"\\n\".join([la.txt(l, scan=True) for l in neither_strict][:10]))"
   ]
  },
  {
   "cell_type": "code",
   "execution_count": 42,
   "metadata": {},
   "outputs": [
    {
     "name": "stdout",
     "output_type": "stream",
     "text": [
      "2063\n"
     ]
    },
    {
     "data": {
      "text/plain": [
       "2064"
      ]
     },
     "execution_count": 42,
     "metadata": {},
     "output_type": "execute_result"
    }
   ],
   "source": [
    "# But note that there's a gap between C's 1819 BD lines and my '-'\n",
    "# caesura of just the right amount. Not sure what's going on here.\n",
    "\n",
    "print(1819+244)\n",
    "print(Counter([la.classify_caesura(l,4,strict=False) for l in aen])['-'])"
   ]
  },
  {
   "cell_type": "code",
   "execution_count": null,
   "metadata": {},
   "outputs": [],
   "source": []
  }
 ],
 "metadata": {
  "kernelspec": {
   "display_name": "silius",
   "language": "python",
   "name": "silius"
  },
  "language_info": {
   "codemirror_mode": {
    "name": "ipython",
    "version": 3
   },
   "file_extension": ".py",
   "mimetype": "text/x-python",
   "name": "python",
   "nbconvert_exporter": "python",
   "pygments_lexer": "ipython3",
   "version": "3.7.1"
  }
 },
 "nbformat": 4,
 "nbformat_minor": 2
}
