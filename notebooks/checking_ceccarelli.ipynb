{
 "cells": [
  {
   "cell_type": "code",
   "execution_count": 1,
   "metadata": {},
   "outputs": [],
   "source": [
    "# In this notebook, I want to check some figures from Ceccarelli.\n",
    "# Ceccarelli, L. (2008). Contributi per la storia dell'esametro latino.\n",
    "# In particular Tab. 21 in Vol. 2, 46.\n",
    "#\n",
    "# Our figures disagree wildly on the use of Bucolic Diaeresis.\n",
    "# \n",
    "# In his tables, he breaks the verses of the Aeneid down as\n",
    "# 4_|  : 7376  (strong caes.)\n",
    "# 4__| : 1324  (BD)\n",
    "# 4_xx|: 495   (BD)\n",
    "# 4_x| : 391   (weak caes.)"
   ]
  },
  {
   "cell_type": "code",
   "execution_count": 10,
   "metadata": {},
   "outputs": [],
   "source": [
    "from bs4 import BeautifulSoup\n",
    "import importlib\n",
    "from mqdq import line_analyzer as la\n",
    "from mqdq import utils\n",
    "from collections import Counter\n",
    "\n",
    "with open('../VERG-aene.xml') as fh:\n",
    "    aen_soup = BeautifulSoup(fh,\"xml\")\n",
    "\n",
    "aen = utils.clean(aen_soup('line'))\n",
    "aen_books = [utils.clean(d('line')) for d in aen_soup('division')]   "
   ]
  },
  {
   "cell_type": "code",
   "execution_count": 11,
   "metadata": {},
   "outputs": [
    {
     "data": {
      "text/plain": [
       "Counter({'S': 6450, '-': 2064, 'Q': 945, 'W': 381})"
      ]
     },
     "execution_count": 11,
     "metadata": {},
     "output_type": "execute_result"
    }
   ],
   "source": [
    "# I already have a method in line_analyzer for this,\n",
    "# which is mostly just used inside the caesura_counter.\n",
    "\n",
    "# The weak caesurae almost match C's numbers...\n",
    "\n",
    "Counter([la.classify_caesura(l,4,strict=False) for l in aen])"
   ]
  },
  {
   "cell_type": "code",
   "execution_count": 12,
   "metadata": {},
   "outputs": [
    {
     "data": {
      "text/plain": [
       "7395"
      ]
     },
     "execution_count": 12,
     "metadata": {},
     "output_type": "execute_result"
    }
   ],
   "source": [
    "# What I call a 'quasi' caesura is when there would have been\n",
    "# a 'real' caesura, but there is an elision that carries over\n",
    "# the word break. These seem to be considered by C as a strong\n",
    "# caesura, which is... odd?\n",
    "\n",
    "6450+945"
   ]
  },
  {
   "cell_type": "code",
   "execution_count": 13,
   "metadata": {},
   "outputs": [
    {
     "data": {
      "text/plain": [
       "1819"
      ]
     },
     "execution_count": 13,
     "metadata": {},
     "output_type": "execute_result"
    }
   ],
   "source": [
    "# But C's two 'true' BD cases don't add up to my '-' caesura\n",
    "# which is marked when the foot has no caesura at all.\n",
    "\n",
    "1324+495"
   ]
  },
  {
   "cell_type": "code",
   "execution_count": 14,
   "metadata": {},
   "outputs": [
    {
     "data": {
      "text/plain": [
       "Counter({True: 4844, False: 4996})"
      ]
     },
     "execution_count": 14,
     "metadata": {},
     "output_type": "execute_result"
    }
   ],
   "source": [
    "# Anyway, my own counters for caesurae and my BD analyzer don't add up...\n",
    "# 4844 is more than my '-' and 'Q' caesurae combined.\n",
    "\n",
    "Counter([la.has_bd(l) for l in aen])"
   ]
  },
  {
   "cell_type": "code",
   "execution_count": 52,
   "metadata": {},
   "outputs": [
    {
     "data": {
      "text/plain": [
       "[<line metre=\"H\" name=\"662\" pattern=\"SDSD\">\n",
       " <word mf=\"SY\" sy=\"1A\">Postquam</word>\n",
       " <word sy=\"1T2A\" wb=\"CM\">altos</word>\n",
       " <word sy=\"2b2c3A\" wb=\"CM\">tetigit</word>\n",
       " <word sy=\"3T4A\" wb=\"CM\">fluctus</word>\n",
       " <word sy=\"4b\" wb=\"CF\">et</word>\n",
       " <word sy=\"4c\" wb=\"DI\">ad</word>\n",
       " <word sy=\"5A5b5c\" wb=\"DI\">aequora</word>\n",
       " <word sy=\"6A6X\">uenit,</word>\n",
       " </line>, <line metre=\"H\" name=\"437\" pattern=\"SDSS\">\n",
       " <word sy=\"1A1T2A\" wb=\"CM\">Defensum</word>\n",
       " <word sy=\"2b2c\" wb=\"DI\">dabit</word>\n",
       " <word sy=\"3A\" wb=\"CM\">et</word>\n",
       " <word mf=\"SY\" sy=\"3T\">magna</word>\n",
       " <word sy=\"4A4T\" wb=\"DI\">inter</word>\n",
       " <word sy=\"5A5b5c\" wb=\"DI\">praemia</word>\n",
       " <word sy=\"6A6X\">ducet.</word>\n",
       " </line>, <line metre=\"H\" name=\"283\" pattern=\"SDSS\">\n",
       " <word sy=\"1A1T2A2b\" wb=\"CF\">Exspectate</word>\n",
       " <word sy=\"2c3A\" wb=\"CM\">uenis?</word>\n",
       " <word sy=\"3T\" wb=\"DI\">ut</word>\n",
       " <word sy=\"4A\" wb=\"CM\">te</word>\n",
       " <word sy=\"4T\" wb=\"DI\">post</word>\n",
       " <word sy=\"5A5b\" wb=\"CF\">multa</word>\n",
       " <word sy=\"5c6A6X\">tuorum</word>\n",
       " </line>, <line metre=\"H\" name=\"358\" pattern=\"SSSS\">\n",
       " <word mf=\"SY\" sy=\"1A1T\">Paulatim</word>\n",
       " <word sy=\"2A2T3A\" wb=\"CM\">adnabam</word>\n",
       " <word sy=\"3T4A\" wb=\"CM\">terrae;</word>\n",
       " <word sy=\"4T\" wb=\"DI\">iam</word>\n",
       " <word sy=\"5A5b\" wb=\"CF\">tuta</word>\n",
       " <word sy=\"5c6A6X\">tenebam,</word>\n",
       " </line>]"
      ]
     },
     "execution_count": 52,
     "metadata": {},
     "output_type": "execute_result"
    }
   ],
   "source": [
    "# So, obviously we have a discrepancy. Let's just analyse a small random sample.\n",
    "\n",
    "import random\n",
    "random.seed(1)\n",
    "s = random.sample(aen, 100)\n",
    "s[:4]"
   ]
  },
  {
   "cell_type": "code",
   "execution_count": 53,
   "metadata": {},
   "outputs": [
    {
     "data": {
      "text/plain": [
       "Counter({'S': 67, '-': 20, 'Q': 9, 'W': 4})"
      ]
     },
     "execution_count": 53,
     "metadata": {},
     "output_type": "execute_result"
    }
   ],
   "source": [
    "Counter([la.classify_caesura(l,4,strict=False) for l in s])"
   ]
  },
  {
   "cell_type": "code",
   "execution_count": 54,
   "metadata": {},
   "outputs": [
    {
     "name": "stdout",
     "output_type": "stream",
     "text": [
      "Postquam altos tetigit fluctus et ad aequora uenit,\n",
      "`1A_     `1T2A `2b2c3A `3T4A   4b 4c `5A5b5c `6A6X ----> S, True\n",
      "\n",
      "Defensum dabit et magna inter praemia ducet.\n",
      "1A`1T2A  `2b2c 3A `3T_  `4A4T `5A5b5c `6A6X ----> -, True\n",
      "\n",
      "Exspectate uenis? ut te post multa tuorum\n",
      "1A1T`2A2b  `2c3A  3T 4A 4T   `5A5b 5c`6A6X ----> S, True\n",
      "\n",
      "Paulatim adnabam terrae; iam tuta  tenebam,\n",
      "1A`1T_   2A`2T3A `3T4A   4T  `5A5b 5c`6A6X ----> S, True\n",
      "\n",
      "Signa tibi  dicam, tu condita mente teneto:\n",
      "`1A1b `1c2A `2T3A  3T `4A4b4c `5A5b 5c`6A6X ----> -, True\n",
      "\n",
      "Funereas  rapuere   faces; lucet uia   longo\n",
      "1A`1b1c2A 2b2c`3A3b `3c4A  `4T5A `5b5c `6A6X ----> S, False\n",
      "\n",
      "\"Nunc, o  lecta manus, ualidis incumbite remis;\n",
      "1A     1T `2A2b `2c3A  `3b3c4A 4T`5A5b5c `6A6X ----> S, False\n",
      "\n",
      "Duxisti et talis uoluisti expendere poenas?\n",
      "1A`1T_  2A `2T3A 3b3c`4A_ 4T`5A5b5c `6A6X ----> Q, False\n",
      "\n",
      "Conuulsum remis rostrisque tridentibus aequor.\n",
      "1A`1T2A   `2T3A 3T`4A4b    4c`5A5b5c   `6A6X ----> W, False\n",
      "\n",
      "Persoluo; hic uictor caestus artemque repono.\"\n",
      "1A`1T_    2A  `2T3A  `3T4A   4T`5A5b  5c`6A6X ----> S, False\n"
     ]
    }
   ],
   "source": [
    "# Looking below at how my analysis works, we can now see the problem.\n",
    "# The first line has a word break after the arsis of the\n",
    "# fourth foot, which is the definition of a strong caesura\n",
    "# but ALSO a word break at the end of the fourth foot, which\n",
    "# is the definition of a bucolic diaeresis. Same with the third\n",
    "# and fourth lines, so I guess this happens a lot.\n",
    "#\n",
    "# Well, there's our problem, but whose interpretation is\n",
    "# correct? Well, that's another matter entirely, and more a\n",
    "# matter of interpreting the literature. I claim they should be\n",
    "# counted as both BD and SC, but I'm not sure about the very first line---\n",
    "# does it have all three features (BD, SC, WC)?? (technically, yes...)\n",
    "\n",
    "print(\"\\n\\n\".join(\n",
    "        [utils.txt(l, scan=True) + \n",
    "        ' ----> ' + \n",
    "        (la.classify_caesura(l,4,strict=False)) +\n",
    "        \", \" +\n",
    "        str(la.has_bd(l)) for l in s[:10]]\n",
    "    )\n",
    ")"
   ]
  },
  {
   "cell_type": "code",
   "execution_count": 24,
   "metadata": {},
   "outputs": [
    {
     "name": "stdout",
     "output_type": "stream",
     "text": [
      "9586\n",
      "244\n"
     ]
    }
   ],
   "source": [
    "# There's one more problem. C's numbers don't add up. He uses \n",
    "# 9830 lines for Aen. (I use 9840, per MQDQ scansion), but his\n",
    "# 4th feet only add up to 9586.\n",
    "\n",
    "print(7376 + 1324 + 495 + 391)\n",
    "print(9830 - (7376 + 1324 + 495 + 391))"
   ]
  },
  {
   "cell_type": "code",
   "execution_count": 25,
   "metadata": {},
   "outputs": [],
   "source": [
    "# So, there should be lines that have neither a 4th foot caesura, NOR\n",
    "# BD. How many are there?\n",
    "\n",
    "no_4th_caes = [l for l in aen if la.classify_caesura(l,4,strict=True)=='-']"
   ]
  },
  {
   "cell_type": "code",
   "execution_count": 26,
   "metadata": {},
   "outputs": [
    {
     "data": {
      "text/plain": [
       "3009"
      ]
     },
     "execution_count": 26,
     "metadata": {},
     "output_type": "execute_result"
    }
   ],
   "source": [
    "# With strict=True we mark the caesura as '-' if the feet are completely contained in a word\n",
    "# OR over an elision.\n",
    "len(no_4th_caes)"
   ]
  },
  {
   "cell_type": "code",
   "execution_count": 27,
   "metadata": {},
   "outputs": [],
   "source": [
    "# So these should now be the lines with neither,\n",
    "# so the fourth foot should be wrapped in a monster\n",
    "# word or something.\n",
    "\n",
    "neither = [l for l in no_4th_caes if la.has_bd(l)==False]"
   ]
  },
  {
   "cell_type": "code",
   "execution_count": 28,
   "metadata": {},
   "outputs": [
    {
     "data": {
      "text/plain": [
       "898"
      ]
     },
     "execution_count": 28,
     "metadata": {},
     "output_type": "execute_result"
    }
   ],
   "source": [
    "len(neither)"
   ]
  },
  {
   "cell_type": "code",
   "execution_count": 31,
   "metadata": {},
   "outputs": [
    {
     "name": "stdout",
     "output_type": "stream",
     "text": [
      "Ostia,  diues opum  studiisque asperrima belli;\n",
      "`1A1b1c `2A2b `2c3A 3b3c`4A_   4T`5A5b5c `6A6X\n",
      "\n",
      "Iudicium  Paridis spretaeque iniuria   formae\n",
      "1A`1b1c2A `2b2c3A 3T`4A_     4T`5A5b5c `6A6X\n",
      "\n",
      "Troas, reliquias Danaum atque immitis Achilli,\n",
      "`1A1T  2A`2b2c3A `3b3c_ `4A_  4T`5A5b 5c`6A6X\n",
      "\n",
      "Nec posse Italia    Teucrorum auertere  regem?\n",
      "1A  `1T_  2A`2b2c3A 3T`4A_    4T`5A5b5c `6A6X\n",
      "\n",
      "Quippe uetor fatis. Pallasne exurere   classem\n",
      "`1A1b  `1c2A `2T3A  3T`4A_   4T`5A5b5c `6A6X\n",
      "\n",
      "Disiecitque rates euertitque aequora uentis,\n",
      "1A1T`2A2b   `2c3A 3T4A`4T_   `5A5b5c `6A6X\n",
      "\n",
      "Turbine corripuit scopuloque infixit acuto;\n",
      "`1A1b1c 2A`2b2c3A 3b3c`4A_   4T`5A5b 5c`6A6X\n",
      "\n",
      "Luctantis uentos tempestatesque sonoras\n",
      "1A`1T2A   `2T3A  3T4A4T`5A5b    5c`6A6X\n",
      "\n",
      "Incute  uim uentis submersasque obrue   puppes,\n",
      "`1A1b1c 2A  `2T3A  3T4A`4T_     `5A5b5c `6A6X\n",
      "\n",
      "Nimborumque facis tempestatumque potentem.\"\n",
      "1A1T`2A2b   `2c3A 3T4A4T`5A5b    5c`6A6X\n"
     ]
    }
   ],
   "source": [
    "# And here's a sample of them. Mostly the elision type\n",
    "# but we can see one at the end of the 'monster word'\n",
    "# variety ('tempestatumque')\n",
    "\n",
    "utils.blat(neither[:10])"
   ]
  },
  {
   "cell_type": "code",
   "execution_count": 32,
   "metadata": {},
   "outputs": [
    {
     "data": {
      "text/plain": [
       "307"
      ]
     },
     "execution_count": 32,
     "metadata": {},
     "output_type": "execute_result"
    }
   ],
   "source": [
    "# Could the lines where the fourth foot is completely\n",
    "# contained, and doesn't end the word account for\n",
    "# C's missing 244 verses? No, there are actually more\n",
    "# of that kind of line.\n",
    "\n",
    "no_4th_caes_strict = [l for l in aen if la.classify_caesura(l,4,strict=False)=='-']\n",
    "neither_strict = [l for l in no_4th_caes_strict if la.has_bd(l)==False]\n",
    "len(neither_strict)"
   ]
  },
  {
   "cell_type": "code",
   "execution_count": 33,
   "metadata": {},
   "outputs": [
    {
     "name": "stdout",
     "output_type": "stream",
     "text": [
      "Disiecitque rates euertitque aequora uentis,\n",
      "1A1T`2A2b   `2c3A 3T4A`4T_   `5A5b5c `6A6X\n",
      "\n",
      "Luctantis uentos tempestatesque sonoras\n",
      "1A`1T2A   `2T3A  3T4A4T`5A5b    5c`6A6X\n",
      "\n",
      "Incute  uim uentis submersasque obrue   puppes,\n",
      "`1A1b1c 2A  `2T3A  3T4A`4T_     `5A5b5c `6A6X\n",
      "\n",
      "Nimborumque facis tempestatumque potentem.\"\n",
      "1A1T`2A2b   `2c3A 3T4A4T`5A5b    5c`6A6X\n",
      "\n",
      "Conspexere, silent arrectisque auribus adstant;\n",
      "1A1T`2A2b   `2c3A  3T4A`4T_    `5A5b5c `6A6X\n",
      "\n",
      "Siue extrema pati  nec exaudire  uocatos.\n",
      "`1A_ 1T`2A2b `2c3A 3T  4A4T`5A5b 5c`6A6X\n",
      "\n",
      "Vultu, quo caelum tempestatesque serenat,\n",
      "`1A1T  2A  `2T3A  3T4A4T`5A5b    5c`6A6X\n",
      "\n",
      "Sed fines Libyci, genus intractabile bello.\n",
      "1A  `1T2A `2b2c3A `3b3c 4A4T`5A5b5c  `6A6X\n",
      "\n",
      "Passa Venus medio   sic interfata dolore  est:\n",
      "`1A1b `1c2A `2b2c3A 3T  4A4T`5A5b 5c`6A6X _\n",
      "\n",
      "Aut capere aut captas iam despectare uidentur:\n",
      "1A  `1b1c_ 2A  `2T3A  3T  4A4T`5A5b  5c`6A6X\n"
     ]
    }
   ],
   "source": [
    "# And here's a sample of them.\n",
    "\n",
    "utils.blat(neither_strict[:10])"
   ]
  },
  {
   "cell_type": "code",
   "execution_count": 34,
   "metadata": {},
   "outputs": [
    {
     "name": "stdout",
     "output_type": "stream",
     "text": [
      "2063\n",
      "2064\n"
     ]
    }
   ],
   "source": [
    "# But note that there's a gap between C's 1819 BD lines and my '-'\n",
    "# caesura of just the right amount. It looks like those lines\n",
    "# are all the ones that aren't included.\n",
    "\n",
    "print(1819+244)\n",
    "print(Counter([la.classify_caesura(l,4,strict=False) for l in aen])['-'])"
   ]
  },
  {
   "cell_type": "code",
   "execution_count": 39,
   "metadata": {},
   "outputs": [
    {
     "data": {
      "text/plain": [
       "307"
      ]
     },
     "execution_count": 39,
     "metadata": {},
     "output_type": "execute_result"
    }
   ],
   "source": [
    "# So the missing lines have (strictu sensu) no caesura in the 4th foot\n",
    "# (ie not even with elision) and also no BD\n",
    "\n",
    "no4th = [l for l in aen if la.classify_caesura(l,4,strict=False)=='-']\n",
    "no4th_nobd = [l for l in no4th if not la.has_bd(l)]\n",
    "len(no4th_nobd)"
   ]
  },
  {
   "cell_type": "code",
   "execution_count": 40,
   "metadata": {},
   "outputs": [
    {
     "name": "stdout",
     "output_type": "stream",
     "text": [
      "Si qua piis  animis  manet infelicis Amatae\n",
      "1A 1b  `1c2A `2b2c3A `3b3c 4A4T`5A5b 5c`6A6X\n",
      "\n",
      "Sola  sibi, semper longam incomitata  uidetur\n",
      "`1A1b `1c2A `2T3A  `3T_   4A4b4c`5A5b 5c`6A6X\n",
      "\n",
      "Quam cladem miserae postquam accepere  Latinae,\n",
      "1A   `1T2A  `2b2c3A `3T_     4A4T`5A5b 5c`6A6X\n",
      "\n",
      "\"Venisti tandem, tuaque exspectata parenti\n",
      "1A`1T2A  `2T3A   `3b3c_ 4A4T`5A5b  5c`6A6X\n",
      "\n",
      "Dat Niso  Mnestheus pellem horrentisque leonis\n",
      "1A  `1T2A `2T3A     `3T_   4A4T`5A5b    5c`6A6X\n",
      "\n",
      "Certatim sese  Rutuli exhortantur in arma.\n",
      "1A`1T2A  `2T3A `3b3c_ 4A4T`5A5b   5c `6A6X\n",
      "\n",
      "Vertice attollens pater Appenninus ad auras.\n",
      "`1A1b1c 2A`2T3A   `3b3c 4A4T`5A5b  5c `6A6X\n",
      "\n",
      "Obuius  ire   parat. manet imperterritus ille\n",
      "`1A1b1c `2A2b `2c3A  `3b3c 4A4T`5A5b5c   `6A6X\n",
      "\n",
      "Pendentem scopulo Furiarumque ora   trementem,\n",
      "1A`1T2A   `2b2c3A 3b3c4A`4T_  `5A5b 5c`6A6X\n",
      "\n",
      "Si mihi  non animo   fixum immotumque sederet\n",
      "1A `1b1c 2A  `2b2c3A `3T_  4A4T`5A5b  5c`6A6X\n"
     ]
    }
   ],
   "source": [
    "utils.blat(random.sample(no4th_nobd,10))"
   ]
  },
  {
   "cell_type": "code",
   "execution_count": 41,
   "metadata": {},
   "outputs": [],
   "source": [
    "# 307 is almost the number we want, and looking at the sample, I think I know\n",
    "# what's going on, now.\n",
    "\n",
    "# Let's hack up a new function, I haven't needed this in line_analyser yet...\n",
    "\n",
    "import re\n",
    "def elision_after_foot(n, l):\n",
    "    try:\n",
    "        if l['pattern'] == 'corrupt':\n",
    "            raise ValueError(\"Can't calculate conflicts on a corrupt line!\")\n",
    "            \n",
    "        for w in l('word'):\n",
    "            if re.search('%d[Tc]' % n, w['sy']): \n",
    "                if w.has_attr('mf') and w['mf']=='SY':\n",
    "                    return True\n",
    "                return False\n",
    "\n",
    "        return False\n",
    "\n",
    "    except:\n",
    "        raise ValueError(\"Can't handle this: %s\" % l)\n",
    "        "
   ]
  },
  {
   "cell_type": "code",
   "execution_count": 42,
   "metadata": {},
   "outputs": [
    {
     "name": "stdout",
     "output_type": "stream",
     "text": [
      "241\n",
      "\n",
      "Vitaque cum gemitu  fugit indignata sub umbras.\n",
      "`1A1b1c 2A  `2b2c3A `3b3c 4A4T`5A5b 5c  `6A6X\n",
      "\n",
      "Alcandrumque Haliumque Noemonaque  Prytanimque.\n",
      "1A1T`2A_     2b2c`3A3b 3c4A`4b4c5A 5b5c`6A6X\n",
      "\n",
      "Qui fuit  in Teucris et seruantissimus aequi\n",
      "1A  `1b1c 2A `2T3A   3T 4A4T`5A5b5c    `6A6X\n",
      "\n",
      "Aut hoc inclusi ligno occultantur Achiui,\n",
      "1A  1T  2A`2T3A `3T_  4A4T`5A5b   5c`6A6X\n",
      "\n",
      "Parthus siue  Cydon, telum immedicabile, torsit,\n",
      "`1A1T   `2A2b `2c3A  `3T_  4A4b4c`5A5b5c `6A6X\n"
     ]
    }
   ],
   "source": [
    "# Ah! There are 241 lines which have no 4th foot caesura,\n",
    "# no BD (by my method) and no elision after the 4th foot.\n",
    "# Another way of saying that is that the 4th foot is entirely\n",
    "# contained in a word.\n",
    "#\n",
    "# It looks like these are the ones that are missing entirely\n",
    "# from Ceccarelli.\n",
    "\n",
    "skipped=[l for l in no4th_nobd if not elision_after_foot(4,l)]\n",
    "print(len(skipped))\n",
    "print()\n",
    "utils.blat(random.sample(skipped,5))"
   ]
  },
  {
   "cell_type": "code",
   "execution_count": 43,
   "metadata": {},
   "outputs": [],
   "source": [
    "# Now I think I know enough to reverse engineer C's algorithm:\n",
    "#\n",
    "# - Lines in 'skipped' (as above, with no 4th foot caesura, no BD etc etc) are\n",
    "#   not counted at all.\n",
    "# - Lines are then classified according to the break in the fourth foot\n",
    "#   BUT, caesurae are calculated before BD (if a line has both, it will)\n",
    "#   be counted as the caesura\n",
    "# - Elision is ignored (!!)\n",
    "\n",
    "def ceccarelli(l):\n",
    "    \n",
    "    try:\n",
    "        if l['pattern'] == 'corrupt':\n",
    "            raise ValueError(\"Can't calculate conflicts on a corrupt line!\")\n",
    "        if l in skipped:\n",
    "            return 'skip'\n",
    "        \n",
    "        for w in l('word'):\n",
    "            # syllable string ends with A, and there's a wordbreak\n",
    "            # so this is a strong caesura\n",
    "            if re.search('4A$', w['sy']):\n",
    "                return '4A'\n",
    "            elif re.search('4b$', w['sy']):\n",
    "                return '4b'\n",
    "            # Because of the early returns, these are only reached\n",
    "            # if there was no caesura\n",
    "            elif re.search('4c$', w['sy']):\n",
    "                return '4c'\n",
    "            elif re.search('4T', w['sy']): \n",
    "                return '4T'\n",
    "        \n",
    "        return '-'\n",
    "\n",
    "    except:\n",
    "        raise ValueError(\"Can't handle this: %s\" % l)"
   ]
  },
  {
   "cell_type": "code",
   "execution_count": 44,
   "metadata": {},
   "outputs": [
    {
     "name": "stdout",
     "output_type": "stream",
     "text": [
      "Reverse engineered Ceccarelli:\n",
      "4_|  : 7384\n",
      "4__| : 1328\n",
      "4_xx|: 493\n",
      "4_x| : 392\n",
      "\n"
     ]
    }
   ],
   "source": [
    "# Recall the real numbers:\n",
    "# 4_|  : 7376  (strong caes.)\n",
    "# 4__| : 1324  (BD)\n",
    "# 4_xx|: 495   (BD)\n",
    "# 4_x| : 391   (weak caes.)\n",
    "\n",
    "c = Counter([ceccarelli(l) for l in aen])\n",
    "print(\"Reverse engineered Ceccarelli:\\n4_|  : %d\\n4__| : %d\\n4_xx|: %d\\n4_x| : %d\\n\" % (c['4A'],c['4T'],c['4c'],c['4b']))"
   ]
  },
  {
   "cell_type": "code",
   "execution_count": null,
   "metadata": {},
   "outputs": [],
   "source": [
    "# So there we go. A mini replication study and mystery novel rolled into one."
   ]
  }
 ],
 "metadata": {
  "kernelspec": {
   "display_name": "silius",
   "language": "python",
   "name": "silius"
  },
  "language_info": {
   "codemirror_mode": {
    "name": "ipython",
    "version": 3
   },
   "file_extension": ".py",
   "mimetype": "text/x-python",
   "name": "python",
   "nbconvert_exporter": "python",
   "pygments_lexer": "ipython3",
   "version": "3.7.1"
  }
 },
 "nbformat": 4,
 "nbformat_minor": 2
}
